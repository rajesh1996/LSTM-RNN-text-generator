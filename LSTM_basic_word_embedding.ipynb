{
 "cells": [
  {
   "cell_type": "code",
   "execution_count": 16,
   "metadata": {},
   "outputs": [],
   "source": [
    "import torch\n",
    "import torch.nn as nn\n",
    "import torch.nn.functional as F\n",
    "import torch.optim as optim\n",
    "import matplotlib.pyplot as plt\n",
    "%matplotlib inline"
   ]
  },
  {
   "cell_type": "code",
   "execution_count": 17,
   "metadata": {},
   "outputs": [
    {
     "name": "stdout",
     "output_type": "stream",
     "text": [
      "{'the': 0, 'cat': 1, 'ate': 2, 'cheese': 3, 'she': 4, 'read': 5, 'that': 6, 'book': 7, 'dog': 8, 'loves': 9, 'art': 10, 'elephant': 11, 'answers': 12, 'phone': 13}\n"
     ]
    }
   ],
   "source": [
    "training_data = [\n",
    "    (\"The cat ate the cheese\".lower().split(), [\"DET\", \"NN\", \"V\", \"DET\", \"NN\"]),\n",
    "    (\"She read that book\".lower().split(), [\"NN\", \"V\", \"DET\", \"NN\"]),\n",
    "    (\"The dog loves art\".lower().split(), [\"DET\", \"NN\", \"V\", \"NN\"]),\n",
    "    (\"The elephant answers the phone\".lower().split(), [\"DET\", \"NN\", \"V\", \"DET\", \"NN\"])\n",
    "]\n",
    "word2idx = {}\n",
    "for sent,tags in training_data:\n",
    "    for word in sent:\n",
    "        if word not in word2idx:\n",
    "            word2idx[word]=len(word2idx)\n",
    "tag2idx = {\"DET\":0,\"NN\":1,\"V\":2}\n",
    "print(word2idx)"
   ]
  },
  {
   "cell_type": "code",
   "execution_count": 18,
   "metadata": {},
   "outputs": [],
   "source": [
    "import numpy as np\n",
    "def prepare_sequence(seq,to_idx):\n",
    "    idxs = [to_idx[w] for w in seq]\n",
    "    idxs = np.array(idxs)\n",
    "    return torch.from_numpy(idxs)"
   ]
  },
  {
   "cell_type": "code",
   "execution_count": 19,
   "metadata": {},
   "outputs": [
    {
     "name": "stdout",
     "output_type": "stream",
     "text": [
      "tensor([ 0,  8, 12,  0, 13], dtype=torch.int32)\n"
     ]
    }
   ],
   "source": [
    "example_input = prepare_sequence(\"The dog answers the phone\".lower().split(),word2idx)\n",
    "print(example_input)"
   ]
  },
  {
   "cell_type": "code",
   "execution_count": 20,
   "metadata": {},
   "outputs": [],
   "source": [
    "class LSTMTagger(nn.Module):\n",
    "\n",
    "    def __init__(self, embedding_dim, hidden_dim, vocab_size, tagset_size):\n",
    "        ''' Initialize the layers of this model.'''\n",
    "        super(LSTMTagger, self).__init__()\n",
    "        \n",
    "        self.hidden_dim = hidden_dim\n",
    "\n",
    "        # embedding layer that turns words into a vector of a specified size\n",
    "        self.word_embeddings = nn.Embedding(vocab_size, embedding_dim)\n",
    "\n",
    "        # the LSTM takes embedded word vectors (of a specified size) as inputs \n",
    "        # and outputs hidden states of size hidden_dim\n",
    "        self.lstm = nn.LSTM(embedding_dim, hidden_dim)\n",
    "\n",
    "        # the linear layer that maps the hidden state output dimension \n",
    "        # to the number of tags we want as output, tagset_size (in this case this is 3 tags)\n",
    "        self.hidden2tag = nn.Linear(hidden_dim, tagset_size)\n",
    "        \n",
    "        # initialize the hidden state (see code below)\n",
    "        self.hidden = self.init_hidden()\n",
    "\n",
    "        \n",
    "    def init_hidden(self):\n",
    "        ''' At the start of training, we need to initialize a hidden state;\n",
    "           there will be none because the hidden state is formed based on perviously seen data.\n",
    "           So, this function defines a hidden state with all zeroes and of a specified size.'''\n",
    "        # The axes dimensions are (n_layers, batch_size, hidden_dim)\n",
    "        return (torch.zeros(1, 1, self.hidden_dim),\n",
    "                torch.zeros(1, 1, self.hidden_dim))\n",
    "\n",
    "    def forward(self, sentence):\n",
    "        ''' Define the feedforward behavior of the model.'''\n",
    "        # create embedded word vectors for each word in a sentence\n",
    "        embeds = self.word_embeddings(sentence)\n",
    "        \n",
    "        # get the output and hidden state by passing the lstm over our word embeddings\n",
    "        # the lstm takes in our embeddings and hiddent state\n",
    "        lstm_out, self.hidden = self.lstm(\n",
    "            embeds.view(len(sentence), 1, -1), self.hidden)\n",
    "        \n",
    "        # get the scores for the most likely tag for a word\n",
    "        tag_outputs = self.hidden2tag(lstm_out.view(len(sentence), -1))\n",
    "        tag_scores = F.log_softmax(tag_outputs, dim=1)\n",
    "        \n",
    "        return tag_scores\n"
   ]
  },
  {
   "cell_type": "code",
   "execution_count": 21,
   "metadata": {},
   "outputs": [],
   "source": [
    "EMBEDDING_DIM = 6\n",
    "HIDDEN_DIM = 6\n",
    "model = LSTMTagger(EMBEDDING_DIM,HIDDEN_DIM,len(word2idx),len(tag2idx))\n",
    "loss_function = nn.NLLLoss()\n",
    "optimizer = optim.SGD(model.parameters(),lr = 0.1)"
   ]
  },
  {
   "cell_type": "code",
   "execution_count": 30,
   "metadata": {},
   "outputs": [
    {
     "name": "stdout",
     "output_type": "stream",
     "text": [
      "tensor([[-1.4482, -1.3494, -0.6820],\n",
      "        [-1.4141, -1.2905, -0.7304],\n",
      "        [-1.4089, -1.3132, -0.7203],\n",
      "        [-1.4135, -1.3223, -0.7130],\n",
      "        [-1.4618, -1.3608, -0.6700]], grad_fn=<LogSoftmaxBackward>)\n",
      "\n",
      "\n",
      "Predicted tags: \n",
      " tensor([2, 2, 2, 2, 2])\n"
     ]
    },
    {
     "name": "stderr",
     "output_type": "stream",
     "text": [
      "C:\\Users\\nsraj\\Anaconda3\\envs\\cv-nd\\lib\\site-packages\\ipykernel_launcher.py:3: UserWarning: To copy construct from a tensor, it is recommended to use sourceTensor.clone().detach() or sourceTensor.clone().detach().requires_grad_(True), rather than torch.tensor(sourceTensor).\n",
      "  This is separate from the ipykernel package so we can avoid doing imports until\n"
     ]
    }
   ],
   "source": [
    "test_sentence = \"The cheese loves the elephant\".lower().split()\n",
    "inputs = prepare_sequence(test_sentence,word2idx)\n",
    "inputs = torch.tensor(inputs).to(torch.int64)\n",
    "tag_scores = model(inputs)\n",
    "print(tag_scores)\n",
    "_,predicted_tags = torch.max(tag_scores,1)\n",
    "print('\\n')\n",
    "print('Predicted tags: \\n',predicted_tags)"
   ]
  },
  {
   "cell_type": "code",
   "execution_count": 33,
   "metadata": {},
   "outputs": [
    {
     "name": "stderr",
     "output_type": "stream",
     "text": [
      "C:\\Users\\nsraj\\Anaconda3\\envs\\cv-nd\\lib\\site-packages\\ipykernel_launcher.py:9: UserWarning: To copy construct from a tensor, it is recommended to use sourceTensor.clone().detach() or sourceTensor.clone().detach().requires_grad_(True), rather than torch.tensor(sourceTensor).\n",
      "  if __name__ == '__main__':\n",
      "C:\\Users\\nsraj\\Anaconda3\\envs\\cv-nd\\lib\\site-packages\\ipykernel_launcher.py:10: UserWarning: To copy construct from a tensor, it is recommended to use sourceTensor.clone().detach() or sourceTensor.clone().detach().requires_grad_(True), rather than torch.tensor(sourceTensor).\n",
      "  # Remove the CWD from sys.path while we load stuff.\n"
     ]
    },
    {
     "name": "stdout",
     "output_type": "stream",
     "text": [
      "Epoch: 20, loss: 1.03321\n",
      "Epoch: 40, loss: 0.97148\n",
      "Epoch: 60, loss: 0.84358\n",
      "Epoch: 80, loss: 0.60448\n",
      "Epoch: 100, loss: 0.33087\n",
      "Epoch: 120, loss: 0.16615\n",
      "Epoch: 140, loss: 0.09066\n",
      "Epoch: 160, loss: 0.05686\n",
      "Epoch: 180, loss: 0.03977\n",
      "Epoch: 200, loss: 0.02996\n",
      "Epoch: 220, loss: 0.02376\n",
      "Epoch: 240, loss: 0.01954\n",
      "Epoch: 260, loss: 0.01652\n",
      "Epoch: 280, loss: 0.01426\n",
      "Epoch: 300, loss: 0.01251\n"
     ]
    }
   ],
   "source": [
    "n_epochs = 300\n",
    "for epoch in range(n_epochs):\n",
    "    epoch_loss = 0.0\n",
    "    for sentence,tags in training_data:\n",
    "        model.zero_grad()\n",
    "        model.hidden = model.init_hidden()\n",
    "        sentence_in = prepare_sequence(sentence,word2idx)\n",
    "        targets = prepare_sequence(tags,tag2idx)\n",
    "        sentence_in = torch.tensor(sentence_in).to(torch.int64)\n",
    "        targets = torch.tensor(targets).to(torch.int64)\n",
    "        tag_scores = model(sentence_in)\n",
    "        loss = loss_function(tag_scores,targets)\n",
    "        epoch_loss+=loss.item()\n",
    "        loss.backward()\n",
    "        optimizer.step()\n",
    "    if(epoch%20==19):\n",
    "        print(\"Epoch: %d, loss: %1.5f\" % (epoch+1,epoch_loss/len(training_data)))"
   ]
  },
  {
   "cell_type": "code",
   "execution_count": 34,
   "metadata": {},
   "outputs": [
    {
     "name": "stdout",
     "output_type": "stream",
     "text": [
      "tensor([[-6.0019e-02, -3.3125e+00, -3.8245e+00],\n",
      "        [-6.5547e+00, -3.2173e-03, -6.3263e+00],\n",
      "        [-4.0466e+00, -5.2362e+00, -2.3065e-02],\n",
      "        [-1.1967e-02, -6.0536e+00, -4.6516e+00],\n",
      "        [-2.9635e+00, -5.4852e-02, -6.3560e+00]], grad_fn=<LogSoftmaxBackward>)\n",
      "\n",
      "\n",
      "Predicted tags: \n",
      " tensor([0, 1, 2, 0, 1])\n"
     ]
    },
    {
     "name": "stderr",
     "output_type": "stream",
     "text": [
      "C:\\Users\\nsraj\\Anaconda3\\envs\\cv-nd\\lib\\site-packages\\ipykernel_launcher.py:3: UserWarning: To copy construct from a tensor, it is recommended to use sourceTensor.clone().detach() or sourceTensor.clone().detach().requires_grad_(True), rather than torch.tensor(sourceTensor).\n",
      "  This is separate from the ipykernel package so we can avoid doing imports until\n"
     ]
    }
   ],
   "source": [
    "test_sentence = \"The cheese loves the elephant\".lower().split()\n",
    "inputs = prepare_sequence(test_sentence,word2idx)\n",
    "inputs = torch.tensor(inputs).to(torch.int64)\n",
    "tag_scores = model(inputs)\n",
    "print(tag_scores)\n",
    "_,predicted_tags = torch.max(tag_scores,1)\n",
    "print('\\n')\n",
    "print('Predicted tags: \\n',predicted_tags)"
   ]
  },
  {
   "cell_type": "code",
   "execution_count": null,
   "metadata": {},
   "outputs": [],
   "source": []
  }
 ],
 "metadata": {
  "kernelspec": {
   "display_name": "Python 3",
   "language": "python",
   "name": "python3"
  },
  "language_info": {
   "codemirror_mode": {
    "name": "ipython",
    "version": 3
   },
   "file_extension": ".py",
   "mimetype": "text/x-python",
   "name": "python",
   "nbconvert_exporter": "python",
   "pygments_lexer": "ipython3",
   "version": "3.6.10"
  }
 },
 "nbformat": 4,
 "nbformat_minor": 4
}
